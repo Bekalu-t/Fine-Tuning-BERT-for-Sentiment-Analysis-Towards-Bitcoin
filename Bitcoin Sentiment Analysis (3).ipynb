{
 "cells": [
  {
   "cell_type": "markdown",
   "id": "597a642b-988a-4599-ae8e-fa32376e0fbb",
   "metadata": {},
   "source": [
    "### Install Necessary Libraries ich\r\n"
   ]
  },
  {
   "cell_type": "markdown",
   "id": "04b77a11-30f5-42b2-9bab-65e52d0f4e24",
   "metadata": {},
   "source": [
    "pip install transformers\r\n",
    "pip install torch\r\n",
    "pip install sklearn\r\n",
    "pip install pandas\r\n",
    "pip install rich\r\n"
   ]
  },
  {
   "cell_type": "markdown",
   "id": "7eb6fdbb-28e3-4851-a921-db4371b149cf",
   "metadata": {},
   "source": [
    "### Import Libraries:"
   ]
  },
  {
   "cell_type": "code",
   "execution_count": 51,
   "id": "dfa2b083-6cd9-48a5-8413-152f5aa234fc",
   "metadata": {},
   "outputs": [],
   "source": [
    "import pandas as pd\n",
    "import numpy as np\n",
    "import langid\n",
    "import torch\n",
    "from sklearn.model_selection import train_test_split\n",
    "from transformers import BertTokenizer, BertForSequenceClassification\n",
    "from transformers import Trainer, TrainingArguments\n",
    "from transformers import DataCollatorWithPadding\n",
    "from sklearn.metrics import accuracy_score, precision_recall_fscore_support\n",
    "from datasets import Dataset\n",
    "from rich.progress import track"
   ]
  },
  {
   "cell_type": "markdown",
   "id": "ddb10255-676d-4d7c-91e0-f40819ed6556",
   "metadata": {},
   "source": [
    "### Load and Preprocess Dataset:"
   ]
  },
  {
   "cell_type": "code",
   "execution_count": 53,
   "id": "28966b69-b5fd-4511-b864-8460e9456b53",
   "metadata": {},
   "outputs": [],
   "source": [
    "# Load the dataset\n",
    "df = pd.read_csv('Dataset/sds.csv')"
   ]
  },
  {
   "cell_type": "code",
   "execution_count": 54,
   "id": "583c9fd3-2c38-491d-a841-589b994423fa",
   "metadata": {},
   "outputs": [],
   "source": [
    "pd.set_option('max_colwidth', None)"
   ]
  },
  {
   "cell_type": "code",
   "execution_count": 55,
   "id": "24659f9c-f3de-4962-a69e-c8e95690c06c",
   "metadata": {},
   "outputs": [
    {
     "data": {
      "text/html": [
       "<div>\n",
       "<style scoped>\n",
       "    .dataframe tbody tr th:only-of-type {\n",
       "        vertical-align: middle;\n",
       "    }\n",
       "\n",
       "    .dataframe tbody tr th {\n",
       "        vertical-align: top;\n",
       "    }\n",
       "\n",
       "    .dataframe thead th {\n",
       "        text-align: right;\n",
       "    }\n",
       "</style>\n",
       "<table border=\"1\" class=\"dataframe\">\n",
       "  <thead>\n",
       "    <tr style=\"text-align: right;\">\n",
       "      <th></th>\n",
       "      <th>Date</th>\n",
       "      <th>text</th>\n",
       "      <th>Sentiment</th>\n",
       "    </tr>\n",
       "  </thead>\n",
       "  <tbody>\n",
       "    <tr>\n",
       "      <th>0</th>\n",
       "      <td>2019-05-27</td>\n",
       "      <td>È appena uscito un nuovo video! LES CRYPTOMONNAIES QUI PULVÉRISENT BITCOIN EN 2019 https://t.co/yCsQMvRnyS</td>\n",
       "      <td>Positive</td>\n",
       "    </tr>\n",
       "    <tr>\n",
       "      <th>1</th>\n",
       "      <td>2019-05-27</td>\n",
       "      <td>Cardano: Digitize Currencies; EOS https://t.co/1kTKqKEBlS 6500% ROI; AT&amp;amp;T Bitcoin Bill Pay https://t.co/eQCwOXKHK0   |  Cardano (ADA) 🌏📢😎🤑💵 | #FolloForFolloBack #follo4folloback #followforfollow #bitcointe #cryptocurrency</td>\n",
       "      <td>Positive</td>\n",
       "    </tr>\n",
       "    <tr>\n",
       "      <th>2</th>\n",
       "      <td>2019-05-27</td>\n",
       "      <td>Another Test tweet that wasn't caught in the stream ! bitcoin</td>\n",
       "      <td>Positive</td>\n",
       "    </tr>\n",
       "    <tr>\n",
       "      <th>3</th>\n",
       "      <td>2019-05-27</td>\n",
       "      <td>Current Crypto Prices! \\n\\nBTC: $8721.99 USD\\nETH: $266.62 USD\\nLTC: $114.03 USD\\nBCH: $432.02 USD\\nXLM: $0.133 USD\\nDOGE: $ 0.00314 USD\\nNEO: $12.04 USD\\nXRP: $0.4092 USD\\nCANN: $0.001482 USD\\nEMC2: $0.1198 USD\\nXMR: $94.65 USD\\nBTG: $24.31 USD</td>\n",
       "      <td>Positive</td>\n",
       "    </tr>\n",
       "    <tr>\n",
       "      <th>4</th>\n",
       "      <td>2019-05-27</td>\n",
       "      <td>Spiv (Nosar Baz): BITCOIN Is An Asset &amp;amp; NOT A Currency.\\n\\nhttps://t.co/FJru1ooxSM\\n\\nhttps://t.co/fYBX4H6r6r\\n\\nhttps://t.co/xZSjmZ0h3K\\n\\nhttps://t.co/v7GRFIQG7w\\n\\nhttps://t.co/Oq5hQt5hNn</td>\n",
       "      <td>Positive</td>\n",
       "    </tr>\n",
       "  </tbody>\n",
       "</table>\n",
       "</div>"
      ],
      "text/plain": [
       "         Date  \\\n",
       "0  2019-05-27   \n",
       "1  2019-05-27   \n",
       "2  2019-05-27   \n",
       "3  2019-05-27   \n",
       "4  2019-05-27   \n",
       "\n",
       "                                                                                                                                                                                                                                                    text  \\\n",
       "0                                                                                                                                             È appena uscito un nuovo video! LES CRYPTOMONNAIES QUI PULVÉRISENT BITCOIN EN 2019 https://t.co/yCsQMvRnyS   \n",
       "1                      Cardano: Digitize Currencies; EOS https://t.co/1kTKqKEBlS 6500% ROI; AT&amp;T Bitcoin Bill Pay https://t.co/eQCwOXKHK0   |  Cardano (ADA) 🌏📢😎🤑💵 | #FolloForFolloBack #follo4folloback #followforfollow #bitcointe #cryptocurrency   \n",
       "2                                                                                                                                                                                          Another Test tweet that wasn't caught in the stream ! bitcoin   \n",
       "3  Current Crypto Prices! \\n\\nBTC: $8721.99 USD\\nETH: $266.62 USD\\nLTC: $114.03 USD\\nBCH: $432.02 USD\\nXLM: $0.133 USD\\nDOGE: $ 0.00314 USD\\nNEO: $12.04 USD\\nXRP: $0.4092 USD\\nCANN: $0.001482 USD\\nEMC2: $0.1198 USD\\nXMR: $94.65 USD\\nBTG: $24.31 USD   \n",
       "4                                                     Spiv (Nosar Baz): BITCOIN Is An Asset &amp; NOT A Currency.\\n\\nhttps://t.co/FJru1ooxSM\\n\\nhttps://t.co/fYBX4H6r6r\\n\\nhttps://t.co/xZSjmZ0h3K\\n\\nhttps://t.co/v7GRFIQG7w\\n\\nhttps://t.co/Oq5hQt5hNn   \n",
       "\n",
       "  Sentiment  \n",
       "0  Positive  \n",
       "1  Positive  \n",
       "2  Positive  \n",
       "3  Positive  \n",
       "4  Positive  "
      ]
     },
     "execution_count": 55,
     "metadata": {},
     "output_type": "execute_result"
    }
   ],
   "source": [
    "df.head()"
   ]
  },
  {
   "cell_type": "code",
   "execution_count": 56,
   "id": "fbbc2a7c-156b-46f2-83ad-c50115a97de3",
   "metadata": {},
   "outputs": [
    {
     "name": "stdout",
     "output_type": "stream",
     "text": [
      "Sentiment\n",
      "Negative    9729297\n",
      "Positive    8723207\n",
      "Neutral         400\n",
      "Name: count, dtype: int64\n"
     ]
    }
   ],
   "source": [
    "sentiment_count = df['Sentiment'].value_counts()\n",
    "print(sentiment_count)"
   ]
  },
  {
   "cell_type": "code",
   "execution_count": 57,
   "id": "9dde3104-0f2b-48bf-b8df-3a42c90b0cfa",
   "metadata": {},
   "outputs": [
    {
     "data": {
      "text/plain": [
       "(19344048, 3)"
      ]
     },
     "execution_count": 57,
     "metadata": {},
     "output_type": "execute_result"
    }
   ],
   "source": [
    "df.shape"
   ]
  },
  {
   "cell_type": "code",
   "execution_count": 58,
   "id": "988b3e08-4ef5-4c1b-ae9a-439024fe9c08",
   "metadata": {},
   "outputs": [],
   "source": [
    "# Reduce the dataset size for manageability\n",
    "negativedf = df[df['Sentiment'] == 'Negative'].sample(n=10000, random_state=42)\n",
    "positivedf = df[df['Sentiment'] == 'Positive'].sample(n=10000, random_state=42)\n",
    "neutraldf = df[df['Sentiment'] == 'Neutral']"
   ]
  },
  {
   "cell_type": "code",
   "execution_count": 59,
   "id": "64a802cf-7a03-4bd8-97aa-ee6d54ee0b92",
   "metadata": {},
   "outputs": [
    {
     "data": {
      "text/plain": [
       "(19344048, 3)"
      ]
     },
     "execution_count": 59,
     "metadata": {},
     "output_type": "execute_result"
    }
   ],
   "source": [
    "df.shape"
   ]
  },
  {
   "cell_type": "code",
   "execution_count": 60,
   "id": "19aae7cf-93ee-40ed-8caf-a8024c33353c",
   "metadata": {},
   "outputs": [
    {
     "name": "stdout",
     "output_type": "stream",
     "text": [
      "(20400, 3)\n"
     ]
    },
    {
     "data": {
      "text/plain": [
       "<Axes: title={'center': 'Sentiment Distribution Count'}, xlabel='Sentiment'>"
      ]
     },
     "execution_count": 60,
     "metadata": {},
     "output_type": "execute_result"
    },
    {
     "data": {
      "image/png": "[encoded data removed]",
      "text/plain": [
       "<Figure size 640x480 with 1 Axes>"
      ]
     },
     "metadata": {},
     "output_type": "display_data"
    }
   ],
   "source": [
    "# Concatenate the reduced datasets\n",
    "df = pd.concat([negativedf, neutraldf, positivedf])\n",
    "print(df.shape)\n",
    "df['Sentiment'].value_counts().plot(kind='bar',title='Sentiment Distribution Count')"
   ]
  },
  {
   "cell_type": "code",
   "execution_count": 61,
   "id": "70e2d6ce-d694-4d65-9d07-edd14daf0602",
   "metadata": {
    "scrolled": true
   },
   "outputs": [
    {
     "data": {
      "application/vnd.jupyter.widget-view+json": {
       "model_id": "38461c50e0474aa6b590037ac29a5a32",
       "version_major": 2,
       "version_minor": 0
      },
      "text/plain": [
       "Output()"
      ]
     },
     "metadata": {},
     "output_type": "display_data"
    },
    {
     "data": {
      "text/html": [
       "<pre style=\"white-space:pre;overflow-x:auto;line-height:normal;font-family:Menlo,'DejaVu Sans Mono',consolas,'Courier New',monospace\"></pre>\n"
      ],
      "text/plain": []
     },
     "metadata": {},
     "output_type": "display_data"
    },
    {
     "data": {
      "text/html": [
       "<pre style=\"white-space:pre;overflow-x:auto;line-height:normal;font-family:Menlo,'DejaVu Sans Mono',consolas,'Courier New',monospace\">\n",
       "</pre>\n"
      ],
      "text/plain": [
       "\n"
      ]
     },
     "metadata": {},
     "output_type": "display_data"
    }
   ],
   "source": [
    "# Detect language for each row\n",
    "df['lang'] = None\n",
    "for index, row in track(df.iterrows(), total=len(df)):\n",
    "    text = row['text']\n",
    "    if isinstance(text, str):\n",
    "        language, confidence = langid.classify(text)\n",
    "        df.at[index, 'lang'] = language\n",
    "    else:\n",
    "        df.at[index, 'lang'] = 'unknown'"
   ]
  },
  {
   "cell_type": "code",
   "execution_count": 62,
   "id": "50ed7337-28e4-4b16-bbf1-dfdf5492a7b5",
   "metadata": {},
   "outputs": [
    {
     "name": "stdout",
     "output_type": "stream",
     "text": [
      "(14172, 4)\n"
     ]
    }
   ],
   "source": [
    "# Filter only English tweets\n",
    "df = df[df['lang'] == 'en']\n",
    "print(df.shape)\n",
    "\n",
    "# Clean dataset by removing links, hashtags, etc.\n",
    "df['text'] = df['text'].str.replace(r'http\\S+', '', regex=True).str.replace(r'#\\w+', '', regex=True).str.replace(r'@\\w+', '', regex=True).str.replace(r'\\d+', '', regex=True)\n",
    "\n",
    "# Map sentiments to integers\n",
    "sentiment_mapping = {'Negative': 0, 'Neutral': 1, 'Positive': 2}\n",
    "df['label'] = df['Sentiment'].map(sentiment_mapping)"
   ]
  },
  {
   "cell_type": "markdown",
   "id": "3d39614b-dfab-484a-ac38-86da463601d3",
   "metadata": {},
   "source": [
    "### Prepare Data for BERT:"
   ]
  },
  {
   "cell_type": "code",
   "execution_count": 63,
   "id": "6476c70f-bbe4-458d-8741-119c97bdd9ad",
   "metadata": {},
   "outputs": [
    {
     "data": {
      "application/vnd.jupyter.widget-view+json": {
       "model_id": "97727137ed574987a397e8e41e7b9024",
       "version_major": 2,
       "version_minor": 0
      },
      "text/plain": [
       "Map:   0%|          | 0/14172 [00:00<?, ? examples/s]"
      ]
     },
     "metadata": {},
     "output_type": "display_data"
    }
   ],
   "source": [
    "# Load the BERT tokenizer\n",
    "tokenizer = BertTokenizer.from_pretrained('bert-base-uncased')\n",
    "\n",
    "# Tokenize the dataset\n",
    "def tokenize_function(examples):\n",
    "    return tokenizer(examples['text'], padding='max_length', truncation=True)\n",
    "\n",
    "dataset = Dataset.from_pandas(df[['text', 'label']])\n",
    "tokenized_datasets = dataset.map(tokenize_function, batched=True)\n"
   ]
  },
  {
   "cell_type": "markdown",
   "id": "99a5a846-8ad1-4c07-89f1-e4b2d2887ec5",
   "metadata": {},
   "source": [
    "### Split the Dataset"
   ]
  },
  {
   "cell_type": "code",
   "execution_count": 64,
   "id": "867eecbf-3a36-4d67-a75f-08e2c60e4887",
   "metadata": {},
   "outputs": [],
   "source": [
    "train_test_split_ratio = 0.8\n",
    "split = tokenized_datasets.train_test_split(test_size=1 - train_test_split_ratio)\n",
    "train_dataset = split['train']\n",
    "test_dataset = split['test']"
   ]
  },
  {
   "cell_type": "markdown",
   "id": "49165c67-3d7e-4546-9d43-4619ed52dbf9",
   "metadata": {},
   "source": [
    "### Fine-Tune the BERT Model:"
   ]
  },
  {
   "cell_type": "code",
   "execution_count": 65,
   "id": "121ed18e-6c74-44b9-8163-b6f79c4c11c9",
   "metadata": {},
   "outputs": [
    {
     "name": "stderr",
     "output_type": "stream",
     "text": [
      "Some weights of BertForSequenceClassification were not initialized from the model checkpoint at bert-base-uncased and are newly initialized: ['classifier.bias', 'classifier.weight']\n",
      "You should probably TRAIN this model on a down-stream task to be able to use it for predictions and inference.\n"
     ]
    }
   ],
   "source": [
    "# Load the BERT model\n",
    "model = BertForSequenceClassification.from_pretrained('bert-base-uncased', num_labels=3)\n"
   ]
  },
  {
   "cell_type": "code",
   "execution_count": null,
   "id": "1d5b26a8-1397-4a35-9a07-1aca7c22eceb",
   "metadata": {},
   "outputs": [
    {
     "data": {
      "text/html": [
       "\n",
       "    <div>\n",
       "      \n",
       "      <progress value='5' max='2127' style='width:300px; height:20px; vertical-align: middle;'></progress>\n",
       "      [   5/2127 04:40 < 55:03:16, 0.01 it/s, Epoch 0.01/3]\n",
       "    </div>\n",
       "    <table border=\"1\" class=\"dataframe\">\n",
       "  <thead>\n",
       " <tr style=\"text-align: left;\">\n",
       "      <th>Epoch</th>\n",
       "      <th>Training Loss</th>\n",
       "      <th>Validation Loss</th>\n",
       "    </tr>\n",
       "  </thead>\n",
       "  <tbody>\n",
       "  </tbody>\n",
       "</table><p>"
      ],
      "text/plain": [
       "<IPython.core.display.HTML object>"
      ]
     },
     "metadata": {},
     "output_type": "display_data"
    }
   ],
   "source": [
    "# Define metrics\n",
    "def compute_metrics(p):\n",
    "    preds = np.argmax(p.predictions, axis=1)\n",
    "    precision, recall, f1, _ = precision_recall_fscore_support(p.label_ids, preds, average='weighted')\n",
    "    acc = accuracy_score(p.label_ids, preds)\n",
    "    return {'accuracy': acc, 'f1': f1, 'precision': precision, 'recall': recall}\n",
    "\n",
    "# Define training arguments\n",
    "training_args = TrainingArguments(\n",
    "    output_dir='./results',\n",
    "    eval_strategy='epoch',\n",
    "    learning_rate=2e-5,\n",
    "    per_device_train_batch_size=8,  # Reduced batch size\n",
    "    per_device_eval_batch_size=8,\n",
    "    num_train_epochs=3,\n",
    "    weight_decay=0.01,\n",
    "    gradient_accumulation_steps=2,  # Use gradient accumulation\n",
    ")\n",
    "\n",
    "# Define the data collator\n",
    "data_collator = DataCollatorWithPadding(tokenizer=tokenizer)\n",
    "\n",
    "# Create the Trainer\n",
    "trainer = Trainer(\n",
    "    model=model,\n",
    "    args=training_args,\n",
    "    train_dataset=train_dataset,\n",
    "    eval_dataset=test_dataset,\n",
    "    tokenizer=tokenizer,\n",
    "    data_collator=data_collator,\n",
    "    compute_metrics=compute_metrics,\n",
    ")\n",
    "\n",
    "# Train the model\n",
    "trainer.train()"
   ]
  },
  {
   "cell_type": "markdown",
   "id": "b604b1fe-55a5-4d50-b790-5a90d2e6ab28",
   "metadata": {},
   "source": [
    "### Evaluate the Model:"
   ]
  },
  {
   "cell_type": "code",
   "execution_count": null,
   "id": "aa2eb173-bc52-4f29-80ff-ca614316b055",
   "metadata": {},
   "outputs": [],
   "source": [
    "# Evaluate the model\n",
    "eval_result = trainer.evaluate()\n",
    "print(eval_result)\n"
   ]
  },
  {
   "cell_type": "markdown",
   "id": "dc30e2a9-8d38-4999-a93b-0943f1dc67e4",
   "metadata": {},
   "source": [
    "### Save the Model"
   ]
  },
  {
   "cell_type": "code",
   "execution_count": null,
   "id": "3a323416-4576-4226-9588-fba78dd122b1",
   "metadata": {},
   "outputs": [],
   "source": [
    "# Save the fine-tuned model\n",
    "model.save_pretrained('./fine-tuned-bert')\n",
    "tokenizer.save_pretrained('./fine-tuned-bert')\n"
   ]
  },
  {
   "cell_type": "markdown",
   "id": "7931a734-3683-4ca7-936d-1b537057e8ab",
   "metadata": {},
   "source": []
  }
 ],
 "metadata": {
  "kernelspec": {
   "display_name": "Mega Environment",
   "language": "python",
   "name": "mega_env"
  },
  "language_info": {
   "codemirror_mode": {
    "name": "ipython",
    "version": 3
   },
   "file_extension": ".py",
   "mimetype": "text/x-python",
   "name": "python",
   "nbconvert_exporter": "python",
   "pygments_lexer": "ipython3",
   "version": "3.12.2"
  }
 },
 "nbformat": 4,
 "nbformat_minor": 5
}
